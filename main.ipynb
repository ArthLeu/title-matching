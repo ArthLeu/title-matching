{
 "cells": [
  {
   "cell_type": "code",
   "execution_count": 1,
   "metadata": {},
   "outputs": [],
   "source": [
    "import os\n",
    "import re\n",
    "import json\n",
    "import glob\n",
    "from collections import defaultdict\n",
    "from functools import partial\n",
    "\n",
    "import numpy as np \n",
    "import pandas as pd \n",
    "from tqdm.autonotebook import tqdm\n",
    "import matplotlib.pyplot as plt \n",
    "\n",
    "import nltk\n",
    "import string\n",
    "from fuzzywuzzy import fuzz\n",
    "\n",
    "#from model import longest_consecutive_caps as LCC\n",
    "from model.model import longest_consecutive_caps as LCC\n"
   ]
  },
  {
   "cell_type": "code",
   "execution_count": 2,
   "metadata": {},
   "outputs": [],
   "source": [
    "#train_df = pd.read_csv(\"dataset/train.csv\")\n",
    "#sample_sub = pd.read_csv('dataset/sample_submission.csv')\n",
    "#train_fp = \"dataset/train/\"\n",
    "#test_fp = \"dataset/test/\"\n",
    "\n",
    "train_df = pd.read_csv(\"/kaggle/input/coleridgeinitiative-show-us-the-data/train.csv\")\n",
    "sample_sub = pd.read_csv('/kaggle/input/coleridgeinitiative-show-us-the-data/sample_submission.csv')\n",
    "train_fp = \"/kaggle/input/coleridgeinitiative-show-us-the-data/train/\"\n",
    "test_fp = \"/kaggle/input/coleridgeinitiative-show-us-the-data/test/\""
   ]
  },
  {
   "cell_type": "code",
   "execution_count": 3,
   "metadata": {},
   "outputs": [
    {
     "output_type": "execute_result",
     "data": {
      "text/plain": [
       "                                     Id  \\\n",
       "0  d0fa7568-7d8e-4db9-870f-f9c6f668c17b   \n",
       "1  2f26f645-3dec-485d-b68d-f013c9e05e60   \n",
       "2  c5d5cd2c-59de-4f29-bbb1-6a88c7b52f29   \n",
       "3  5c9a3bc9-41ba-4574-ad71-e25c1442c8af   \n",
       "4  c754dec7-c5a3-4337-9892-c02158475064   \n",
       "\n",
       "                                           pub_title  \\\n",
       "0  The Impact of Dual Enrollment on College Degre...   \n",
       "1  Educational Attainment of High School Dropouts...   \n",
       "2  Differences in Outcomes for Female and Male St...   \n",
       "3  Stepping Stone and Option Value in a Model of ...   \n",
       "4  Parental Effort, School Resources, and Student...   \n",
       "\n",
       "                           dataset_title  \\\n",
       "0  National Education Longitudinal Study   \n",
       "1  National Education Longitudinal Study   \n",
       "2  National Education Longitudinal Study   \n",
       "3  National Education Longitudinal Study   \n",
       "4  National Education Longitudinal Study   \n",
       "\n",
       "                           dataset_label  \\\n",
       "0  National Education Longitudinal Study   \n",
       "1  National Education Longitudinal Study   \n",
       "2  National Education Longitudinal Study   \n",
       "3  National Education Longitudinal Study   \n",
       "4  National Education Longitudinal Study   \n",
       "\n",
       "                           cleaned_label  \n",
       "0  national education longitudinal study  \n",
       "1  national education longitudinal study  \n",
       "2  national education longitudinal study  \n",
       "3  national education longitudinal study  \n",
       "4  national education longitudinal study  "
      ],
      "text/html": "<div>\n<style scoped>\n    .dataframe tbody tr th:only-of-type {\n        vertical-align: middle;\n    }\n\n    .dataframe tbody tr th {\n        vertical-align: top;\n    }\n\n    .dataframe thead th {\n        text-align: right;\n    }\n</style>\n<table border=\"1\" class=\"dataframe\">\n  <thead>\n    <tr style=\"text-align: right;\">\n      <th></th>\n      <th>Id</th>\n      <th>pub_title</th>\n      <th>dataset_title</th>\n      <th>dataset_label</th>\n      <th>cleaned_label</th>\n    </tr>\n  </thead>\n  <tbody>\n    <tr>\n      <th>0</th>\n      <td>d0fa7568-7d8e-4db9-870f-f9c6f668c17b</td>\n      <td>The Impact of Dual Enrollment on College Degre...</td>\n      <td>National Education Longitudinal Study</td>\n      <td>National Education Longitudinal Study</td>\n      <td>national education longitudinal study</td>\n    </tr>\n    <tr>\n      <th>1</th>\n      <td>2f26f645-3dec-485d-b68d-f013c9e05e60</td>\n      <td>Educational Attainment of High School Dropouts...</td>\n      <td>National Education Longitudinal Study</td>\n      <td>National Education Longitudinal Study</td>\n      <td>national education longitudinal study</td>\n    </tr>\n    <tr>\n      <th>2</th>\n      <td>c5d5cd2c-59de-4f29-bbb1-6a88c7b52f29</td>\n      <td>Differences in Outcomes for Female and Male St...</td>\n      <td>National Education Longitudinal Study</td>\n      <td>National Education Longitudinal Study</td>\n      <td>national education longitudinal study</td>\n    </tr>\n    <tr>\n      <th>3</th>\n      <td>5c9a3bc9-41ba-4574-ad71-e25c1442c8af</td>\n      <td>Stepping Stone and Option Value in a Model of ...</td>\n      <td>National Education Longitudinal Study</td>\n      <td>National Education Longitudinal Study</td>\n      <td>national education longitudinal study</td>\n    </tr>\n    <tr>\n      <th>4</th>\n      <td>c754dec7-c5a3-4337-9892-c02158475064</td>\n      <td>Parental Effort, School Resources, and Student...</td>\n      <td>National Education Longitudinal Study</td>\n      <td>National Education Longitudinal Study</td>\n      <td>national education longitudinal study</td>\n    </tr>\n  </tbody>\n</table>\n</div>"
     },
     "metadata": {},
     "execution_count": 3
    }
   ],
   "source": [
    "train_df.head(5)"
   ]
  },
  {
   "cell_type": "code",
   "execution_count": 4,
   "metadata": {},
   "outputs": [
    {
     "output_type": "stream",
     "name": "stdout",
     "text": [
      "<class 'pandas.core.frame.DataFrame'>\nRangeIndex: 19661 entries, 0 to 19660\nData columns (total 5 columns):\n #   Column         Non-Null Count  Dtype \n---  ------         --------------  ----- \n 0   Id             19661 non-null  object\n 1   pub_title      19661 non-null  object\n 2   dataset_title  19661 non-null  object\n 3   dataset_label  19661 non-null  object\n 4   cleaned_label  19661 non-null  object\ndtypes: object(5)\nmemory usage: 768.1+ KB\n"
     ]
    }
   ],
   "source": [
    "train_df.info()"
   ]
  },
  {
   "cell_type": "code",
   "execution_count": 5,
   "metadata": {},
   "outputs": [],
   "source": [
    "def read_append_return(filename, train_files_path=train_fp, output='text'):\n",
    "    \"\"\"\n",
    "    Function to read json file and then return the text data from them and append to the dataframe\n",
    "    \"\"\"\n",
    "    json_path = os.path.join(train_files_path, (filename+'.json'))\n",
    "    headings = []\n",
    "    contents = []\n",
    "    combined = []\n",
    "    with open(json_path, 'r') as f:\n",
    "        json_decode = json.load(f)\n",
    "        for data in json_decode:\n",
    "            headings.append(data.get('section_title'))\n",
    "            contents.append(data.get('text'))\n",
    "            combined.append(data.get('section_title'))\n",
    "            combined.append(data.get('text'))\n",
    "    \n",
    "    all_headings = ' '.join(headings)\n",
    "    all_contents = ' '.join(contents)\n",
    "    all_data = '. '.join(combined)\n",
    "    \n",
    "    if output == 'text':\n",
    "        return all_contents\n",
    "    elif output == 'head':\n",
    "        return all_headings\n",
    "    else:\n",
    "        return all_data"
   ]
  },
  {
   "cell_type": "code",
   "execution_count": 6,
   "metadata": {},
   "outputs": [
    {
     "output_type": "stream",
     "name": "stderr",
     "text": [
      "/home/ry/.local/lib/python3.8/site-packages/tqdm/std.py:703: FutureWarning: The Panel class is removed from pandas. Accessing it from the top-level namespace will also be removed in the next version\n",
      "  from pandas import Panel\n",
      "100%|██████████| 19661/19661 [00:05<00:00, 3765.90it/s]CPU times: user 4.42 s, sys: 825 ms, total: 5.24 s\n",
      "Wall time: 5.23 s\n",
      "\n"
     ]
    }
   ],
   "source": [
    "%%time\n",
    "tqdm.pandas()   #tqdm is used to show any code running with a progress bar. \n",
    "train_df['text'] = train_df['Id'].progress_apply(read_append_return)"
   ]
  },
  {
   "cell_type": "code",
   "execution_count": 7,
   "metadata": {},
   "outputs": [],
   "source": [
    "def text_cleaning(text):\n",
    "    '''\n",
    "    Converts all text to lower case, Removes special charecters, emojis and multiple spaces\n",
    "    text - Sentence that needs to be cleaned\n",
    "    '''\n",
    "    text = re.sub(' +', ' ', str(text).lower()).strip()\n",
    "    #text = ''.join([k for k in text if k not in string.punctuation])\n",
    "    #text = re.sub('[^A-Za-z0-9\\(\\)]+', ' ', str(text).lower()).strip()\n",
    "#     text = re.sub(\"/'+/g\", ' ', text)\n",
    "     \n",
    "    return text"
   ]
  },
  {
   "cell_type": "code",
   "execution_count": 8,
   "metadata": {},
   "outputs": [
    {
     "output_type": "stream",
     "name": "stderr",
     "text": [
      "100%|██████████| 19661/19661 [00:58<00:00, 336.95it/s]CPU times: user 55.7 s, sys: 2.97 s, total: 58.7 s\n",
      "Wall time: 58.4 s\n",
      "\n"
     ]
    }
   ],
   "source": [
    "%%time\n",
    "tqdm.pandas()\n",
    "train_df['text'] = train_df['text'].progress_apply(text_cleaning)"
   ]
  },
  {
   "cell_type": "code",
   "execution_count": 9,
   "metadata": {},
   "outputs": [
    {
     "output_type": "stream",
     "name": "stdout",
     "text": [
      "14316 19661\n0.7281420070189716\n"
     ]
    }
   ],
   "source": [
    "a = train_df[\"Id\"].nunique()\n",
    "b = train_df[\"Id\"].size\n",
    "print(a, b)\n",
    "print(a/b)"
   ]
  },
  {
   "source": [
    "```\n",
    "from model import search_sentences\n",
    "from custom_classes import PosMap\n",
    "```"
   ],
   "cell_type": "markdown",
   "metadata": {}
  },
  {
   "source": [
    "```\n",
    "%%time\n",
    "tqdm.pandas()\n",
    "\n",
    "i = 0\n",
    "limit = 100\n",
    "p = 5\n",
    "q = 4\n",
    "pre_tf = PosMap(p)\n",
    "post_tf = PosMap(q)\n",
    "\n",
    "for row in tqdm(train_df.iterrows()):\n",
    "    label = row[1][\"cleaned_label\"]\n",
    "    text = row[1][\"text\"].lower()\n",
    "    act, deact = search_sentences(label, text, pre=p, post=q)\n",
    "\n",
    "    for j in range(len(act)):\n",
    "        pre_words = act[j].split()[::-1]\n",
    "        post_words = deact[j].split()\n",
    "        for k in range(min([len(pre_words), p])):\n",
    "            try:\n",
    "                word = pre_words[k]\n",
    "                pre_tf[k][word] += 1\n",
    "            except IndexError:\n",
    "                print(act[j])\n",
    "        \n",
    "        for k in range(min([len(post_words), q])):\n",
    "            try:\n",
    "                word = post_words[k]\n",
    "                post_tf[k][word] += 1\n",
    "            except IndexError:\n",
    "                print(deact[j])\n",
    "\n",
    "    i += 1\n",
    "    #if i >= limit: break\n",
    "```"
   ],
   "cell_type": "markdown",
   "metadata": {
    "tags": []
   }
  },
  {
   "source": [
    "```\n",
    "pre_tf.plot(idx=0) # the first closest pre words\n",
    "pre_tf.plot(idx=1) # the second closest pre words\n",
    "pre_tf.plot(idx=2) # the third\n",
    "pre_tf.plot(idx=3)\n",
    "```"
   ],
   "cell_type": "markdown",
   "metadata": {}
  },
  {
   "source": [
    "```\n",
    "post_tf.plot(idx=0)\n",
    "post_tf.plot(idx=1)\n",
    "post_tf.plot(idx=2)\n",
    "```"
   ],
   "cell_type": "markdown",
   "metadata": {}
  },
  {
   "cell_type": "code",
   "execution_count": 10,
   "metadata": {},
   "outputs": [
    {
     "output_type": "execute_result",
     "data": {
      "text/plain": [
       "                                     Id  \\\n",
       "0  d0fa7568-7d8e-4db9-870f-f9c6f668c17b   \n",
       "1  2f26f645-3dec-485d-b68d-f013c9e05e60   \n",
       "2  c5d5cd2c-59de-4f29-bbb1-6a88c7b52f29   \n",
       "3  5c9a3bc9-41ba-4574-ad71-e25c1442c8af   \n",
       "4  c754dec7-c5a3-4337-9892-c02158475064   \n",
       "\n",
       "                                           pub_title  \\\n",
       "0  The Impact of Dual Enrollment on College Degre...   \n",
       "1  Educational Attainment of High School Dropouts...   \n",
       "2  Differences in Outcomes for Female and Male St...   \n",
       "3  Stepping Stone and Option Value in a Model of ...   \n",
       "4  Parental Effort, School Resources, and Student...   \n",
       "\n",
       "                           dataset_title  \\\n",
       "0  National Education Longitudinal Study   \n",
       "1  National Education Longitudinal Study   \n",
       "2  National Education Longitudinal Study   \n",
       "3  National Education Longitudinal Study   \n",
       "4  National Education Longitudinal Study   \n",
       "\n",
       "                           dataset_label  \\\n",
       "0  National Education Longitudinal Study   \n",
       "1  National Education Longitudinal Study   \n",
       "2  National Education Longitudinal Study   \n",
       "3  National Education Longitudinal Study   \n",
       "4  National Education Longitudinal Study   \n",
       "\n",
       "                           cleaned_label  \\\n",
       "0  national education longitudinal study   \n",
       "1  national education longitudinal study   \n",
       "2  national education longitudinal study   \n",
       "3  national education longitudinal study   \n",
       "4  national education longitudinal study   \n",
       "\n",
       "                                                text  \n",
       "0  this study used data from the national educati...  \n",
       "1  dropping out of high school is not necessarily...  \n",
       "2  , stress satisfactory outcomes for all youth, ...  \n",
       "3  federal reserve bank of richmond s1. accountin...  \n",
       "4  this article investigates an important factor ...  "
      ],
      "text/html": "<div>\n<style scoped>\n    .dataframe tbody tr th:only-of-type {\n        vertical-align: middle;\n    }\n\n    .dataframe tbody tr th {\n        vertical-align: top;\n    }\n\n    .dataframe thead th {\n        text-align: right;\n    }\n</style>\n<table border=\"1\" class=\"dataframe\">\n  <thead>\n    <tr style=\"text-align: right;\">\n      <th></th>\n      <th>Id</th>\n      <th>pub_title</th>\n      <th>dataset_title</th>\n      <th>dataset_label</th>\n      <th>cleaned_label</th>\n      <th>text</th>\n    </tr>\n  </thead>\n  <tbody>\n    <tr>\n      <th>0</th>\n      <td>d0fa7568-7d8e-4db9-870f-f9c6f668c17b</td>\n      <td>The Impact of Dual Enrollment on College Degre...</td>\n      <td>National Education Longitudinal Study</td>\n      <td>National Education Longitudinal Study</td>\n      <td>national education longitudinal study</td>\n      <td>this study used data from the national educati...</td>\n    </tr>\n    <tr>\n      <th>1</th>\n      <td>2f26f645-3dec-485d-b68d-f013c9e05e60</td>\n      <td>Educational Attainment of High School Dropouts...</td>\n      <td>National Education Longitudinal Study</td>\n      <td>National Education Longitudinal Study</td>\n      <td>national education longitudinal study</td>\n      <td>dropping out of high school is not necessarily...</td>\n    </tr>\n    <tr>\n      <th>2</th>\n      <td>c5d5cd2c-59de-4f29-bbb1-6a88c7b52f29</td>\n      <td>Differences in Outcomes for Female and Male St...</td>\n      <td>National Education Longitudinal Study</td>\n      <td>National Education Longitudinal Study</td>\n      <td>national education longitudinal study</td>\n      <td>, stress satisfactory outcomes for all youth, ...</td>\n    </tr>\n    <tr>\n      <th>3</th>\n      <td>5c9a3bc9-41ba-4574-ad71-e25c1442c8af</td>\n      <td>Stepping Stone and Option Value in a Model of ...</td>\n      <td>National Education Longitudinal Study</td>\n      <td>National Education Longitudinal Study</td>\n      <td>national education longitudinal study</td>\n      <td>federal reserve bank of richmond s1. accountin...</td>\n    </tr>\n    <tr>\n      <th>4</th>\n      <td>c754dec7-c5a3-4337-9892-c02158475064</td>\n      <td>Parental Effort, School Resources, and Student...</td>\n      <td>National Education Longitudinal Study</td>\n      <td>National Education Longitudinal Study</td>\n      <td>national education longitudinal study</td>\n      <td>this article investigates an important factor ...</td>\n    </tr>\n  </tbody>\n</table>\n</div>"
     },
     "metadata": {},
     "execution_count": 10
    }
   ],
   "source": [
    "train_df.head()"
   ]
  },
  {
   "cell_type": "code",
   "execution_count": 11,
   "metadata": {},
   "outputs": [
    {
     "output_type": "stream",
     "name": "stderr",
     "text": [
      "/home/ry/.local/lib/python3.8/site-packages/tqdm/std.py:703: FutureWarning: The Panel class is removed from pandas. Accessing it from the top-level namespace will also be removed in the next version\n",
      "  from pandas import Panel\n",
      "100%|██████████| 4/4 [00:00<00:00, 886.42it/s]CPU times: user 5.92 ms, sys: 3.84 ms, total: 9.76 ms\n",
      "Wall time: 8.43 ms\n",
      "\n"
     ]
    }
   ],
   "source": [
    "%%time\n",
    "tqdm.pandas()\n",
    "sample_sub['text'] = sample_sub['Id'].progress_apply(partial(read_append_return, train_files_path=test_fp))"
   ]
  },
  {
   "cell_type": "code",
   "execution_count": 12,
   "metadata": {},
   "outputs": [],
   "source": [
    "def clean_text(txt):\n",
    "    ''' DO NOT DELETE: Official function for submission text cleaning '''\n",
    "    #return re.sub('[^A-Za-z0-9\\(\\)]+', ' ', str(txt).lower()).strip()\n",
    "    return re.sub('[^A-Za-z0-9]+', ' ', str(txt).lower())"
   ]
  },
  {
   "cell_type": "code",
   "execution_count": 14,
   "metadata": {
    "tags": []
   },
   "outputs": [
    {
     "output_type": "stream",
     "name": "stderr",
     "text": [
      "4it [00:03,  1.33it/s]\n"
     ]
    }
   ],
   "source": [
    "# STRING MATCHING BLOCK\n",
    "temp_1 = [x.lower() for x in train_df['dataset_label'].unique()]\n",
    "temp_2 = [x.lower() for x in train_df['dataset_title'].unique()]\n",
    "temp_3 = [x.lower() for x in train_df['cleaned_label'].unique()]\n",
    "\n",
    "existing_labels = set(temp_1 + temp_2 + temp_3)\n",
    "id_list = []\n",
    "lables_list = []\n",
    "for index, row in tqdm(sample_sub.iterrows()):\n",
    "    # get text of each sample test\n",
    "    sample_text = row['text']\n",
    "    row_id = row['Id']\n",
    "    temp_df = train_df[train_df['text'] == text_cleaning(sample_text)]\n",
    "\n",
    "    cleaned_labels = temp_df['cleaned_label'].to_list()\n",
    "\n",
    "    #text = sample_text.lower().split('.')\n",
    "    text = re.split('[?.,\\n\\t&!]', sample_text) # can't have sample_text.lower() since I need to find consecutive caps\n",
    "\n",
    "    # begin search\n",
    "    # matching\n",
    "    for known_label in existing_labels:   # for each label in the known set\n",
    "        # EXACT MATCH\n",
    "        if known_label in sample_text.lower():   # find the EXACT label in text \n",
    "            cleaned_labels.append(clean_text(known_label)) # if found, then append to the list for further formatting\n",
    "        \n",
    "        for sentence in text:\n",
    "            # CASE 1: FUZZY MATCH\n",
    "            #value = fuzz.partial_ratio(sentence.lower(), known_label) # I moved .lower() here\n",
    "            #if value > 85 and value < 100:\n",
    "                # print('value: ', str(value), known_label) # Alex, you might wanna see what this prints\n",
    "                # cleaned_labels.append(clean_text(known_label))\n",
    "        \n",
    "            # CASE 2: for unknown labels\n",
    "            # sentence filtering (Longest Consecutive Capitalization)\n",
    "            #print(sentence)\n",
    "            length, rate, filtered_sentence = LCC(sentence)\n",
    "            if rate <= 0 or length == 0 or (length == 1 and not sentence.isupper()): \n",
    "                continue # no consecutive caps found\n",
    "            # <insert classifier here>\n",
    "            else:\n",
    "                for keyword in [\"dataset\", \"data\", \"database\", \"survey\", \"study\", \"research\", \"statistics\"]:\n",
    "                    if keyword in filtered_sentence.lower():\n",
    "                        #pass\n",
    "                        cleaned_labels.append(clean_text(filtered_sentence)) # naive\n",
    "        \n",
    "\n",
    "    cleaned_labels = [clean_text(x) for x in cleaned_labels]\n",
    "    cleaned_labels = set(cleaned_labels)\n",
    "    lables_list.append('|'.join(cleaned_labels))\n",
    "    id_list.append(row_id)"
   ]
  },
  {
   "cell_type": "code",
   "execution_count": 15,
   "metadata": {},
   "outputs": [],
   "source": [
    "submission = pd.DataFrame()\n",
    "submission['Id'] = id_list\n",
    "submission['PredictionString'] = lables_list"
   ]
  },
  {
   "cell_type": "code",
   "execution_count": 16,
   "metadata": {},
   "outputs": [
    {
     "output_type": "execute_result",
     "data": {
      "text/plain": [
       "                                     Id  \\\n",
       "0  2100032a-7c33-4bff-97ef-690822c43466   \n",
       "1  2f392438-e215-4169-bebf-21ac4ff253e1   \n",
       "2  3f316b38-1a24-45a9-8d8c-4e05a42257c6   \n",
       "3  8e6996b4-ca08-4c0b-bed2-aaf07a4c6a60   \n",
       "\n",
       "                                    PredictionString  \n",
       "0  framingham heart study|alzheimer s disease neu...  \n",
       "1  international reading literacy study|nces inte...  \n",
       "2  slosh model|las dataset|national hydrography d...  \n",
       "3  usda economic research service|nielsen homesca...  "
      ],
      "text/html": "<div>\n<style scoped>\n    .dataframe tbody tr th:only-of-type {\n        vertical-align: middle;\n    }\n\n    .dataframe tbody tr th {\n        vertical-align: top;\n    }\n\n    .dataframe thead th {\n        text-align: right;\n    }\n</style>\n<table border=\"1\" class=\"dataframe\">\n  <thead>\n    <tr style=\"text-align: right;\">\n      <th></th>\n      <th>Id</th>\n      <th>PredictionString</th>\n    </tr>\n  </thead>\n  <tbody>\n    <tr>\n      <th>0</th>\n      <td>2100032a-7c33-4bff-97ef-690822c43466</td>\n      <td>framingham heart study|alzheimer s disease neu...</td>\n    </tr>\n    <tr>\n      <th>1</th>\n      <td>2f392438-e215-4169-bebf-21ac4ff253e1</td>\n      <td>international reading literacy study|nces inte...</td>\n    </tr>\n    <tr>\n      <th>2</th>\n      <td>3f316b38-1a24-45a9-8d8c-4e05a42257c6</td>\n      <td>slosh model|las dataset|national hydrography d...</td>\n    </tr>\n    <tr>\n      <th>3</th>\n      <td>8e6996b4-ca08-4c0b-bed2-aaf07a4c6a60</td>\n      <td>usda economic research service|nielsen homesca...</td>\n    </tr>\n  </tbody>\n</table>\n</div>"
     },
     "metadata": {},
     "execution_count": 16
    }
   ],
   "source": [
    "# pd.set_option(\"display.max_rows\", None, \"display.max_columns\", None)\n",
    "submission.head()"
   ]
  },
  {
   "cell_type": "code",
   "execution_count": 17,
   "metadata": {},
   "outputs": [],
   "source": [
    "submission.to_csv('submission.csv', index=False)"
   ]
  },
  {
   "cell_type": "code",
   "execution_count": 18,
   "metadata": {},
   "outputs": [
    {
     "output_type": "stream",
     "name": "stdout",
     "text": [
      "framingham heart study|alzheimer s disease neuroimaging initiative adni |cardiovascular health study|aging research|adni|lothian birth cohort study\n\ninternational reading literacy study|nces integrated postsecondary education data system|trends in international mathematics and science study|common core of data|international data base|current population survey|education statistics|nces common core of data|literacy study|oecd national accounts database\n\nslosh model|las dataset|national hydrography dataset|nc sea level rise risk management study|north carolina emergency management spatial data download|noaa storm surge inundation|coastal erosion study|the coastal erosion study|sea lake and overland surges from hurricanes|the nc coastal erosion study|national oceanic atmospheric administration s national geodetic survey remote sensing division\n\nusda economic research service|nielsen homescan survey|rural urban continuum codes|food access research atlas|labor statistics|consumer expenditure survey\n\n"
     ]
    }
   ],
   "source": [
    "for item in submission[\"PredictionString\"]:\n",
    "    print(item)\n",
    "    print()"
   ]
  },
  {
   "cell_type": "code",
   "execution_count": null,
   "metadata": {},
   "outputs": [],
   "source": []
  }
 ],
 "metadata": {
  "kernelspec": {
   "display_name": "Python 3",
   "language": "python",
   "name": "python3"
  },
  "language_info": {
   "codemirror_mode": {
    "name": "ipython",
    "version": 3
   },
   "file_extension": ".py",
   "mimetype": "text/x-python",
   "name": "python",
   "nbconvert_exporter": "python",
   "pygments_lexer": "ipython3",
   "version": "3.8.8"
  }
 },
 "nbformat": 4,
 "nbformat_minor": 2
}