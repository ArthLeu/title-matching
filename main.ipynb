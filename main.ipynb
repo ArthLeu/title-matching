{
 "metadata": {
  "language_info": {
   "codemirror_mode": {
    "name": "ipython",
    "version": 3
   },
   "file_extension": ".py",
   "mimetype": "text/x-python",
   "name": "python",
   "nbconvert_exporter": "python",
   "pygments_lexer": "ipython3",
   "version": "3.8.8"
  },
  "orig_nbformat": 2,
  "kernelspec": {
   "name": "python388jvsc74a57bd006f0b86e6bdba99e28d98577ff6ec36020717253ecd624b165753310a3730b6d",
   "display_name": "Python 3.8.8 64-bit ('base': conda)"
  }
 },
 "nbformat": 4,
 "nbformat_minor": 2,
 "cells": [
  {
   "cell_type": "code",
   "execution_count": 17,
   "metadata": {},
   "outputs": [],
   "source": [
    "import os\n",
    "import re\n",
    "import json\n",
    "import glob\n",
    "from collections import defaultdict\n",
    "\n",
    "import numpy as np \n",
    "import pandas as pd \n",
    "from tqdm.autonotebook import tqdm\n",
    "import matplotlib.pyplot as plt \n",
    "\n",
    "import nltk\n",
    "import string"
   ]
  },
  {
   "cell_type": "code",
   "execution_count": 9,
   "metadata": {},
   "outputs": [],
   "source": [
    "train_df = pd.read_csv(\"dataset/train.csv\")\n",
    "train_fp = \"dataset/train/\"\n",
    "test_fp = \"dataset/test/\""
   ]
  },
  {
   "cell_type": "code",
   "execution_count": 10,
   "metadata": {},
   "outputs": [
    {
     "output_type": "execute_result",
     "data": {
      "text/plain": [
       "                                     Id  \\\n",
       "0  d0fa7568-7d8e-4db9-870f-f9c6f668c17b   \n",
       "1  2f26f645-3dec-485d-b68d-f013c9e05e60   \n",
       "2  c5d5cd2c-59de-4f29-bbb1-6a88c7b52f29   \n",
       "3  5c9a3bc9-41ba-4574-ad71-e25c1442c8af   \n",
       "4  c754dec7-c5a3-4337-9892-c02158475064   \n",
       "\n",
       "                                           pub_title  \\\n",
       "0  The Impact of Dual Enrollment on College Degre...   \n",
       "1  Educational Attainment of High School Dropouts...   \n",
       "2  Differences in Outcomes for Female and Male St...   \n",
       "3  Stepping Stone and Option Value in a Model of ...   \n",
       "4  Parental Effort, School Resources, and Student...   \n",
       "\n",
       "                           dataset_title  \\\n",
       "0  National Education Longitudinal Study   \n",
       "1  National Education Longitudinal Study   \n",
       "2  National Education Longitudinal Study   \n",
       "3  National Education Longitudinal Study   \n",
       "4  National Education Longitudinal Study   \n",
       "\n",
       "                           dataset_label  \\\n",
       "0  National Education Longitudinal Study   \n",
       "1  National Education Longitudinal Study   \n",
       "2  National Education Longitudinal Study   \n",
       "3  National Education Longitudinal Study   \n",
       "4  National Education Longitudinal Study   \n",
       "\n",
       "                           cleaned_label  \n",
       "0  national education longitudinal study  \n",
       "1  national education longitudinal study  \n",
       "2  national education longitudinal study  \n",
       "3  national education longitudinal study  \n",
       "4  national education longitudinal study  "
      ],
      "text/html": "<div>\n<style scoped>\n    .dataframe tbody tr th:only-of-type {\n        vertical-align: middle;\n    }\n\n    .dataframe tbody tr th {\n        vertical-align: top;\n    }\n\n    .dataframe thead th {\n        text-align: right;\n    }\n</style>\n<table border=\"1\" class=\"dataframe\">\n  <thead>\n    <tr style=\"text-align: right;\">\n      <th></th>\n      <th>Id</th>\n      <th>pub_title</th>\n      <th>dataset_title</th>\n      <th>dataset_label</th>\n      <th>cleaned_label</th>\n    </tr>\n  </thead>\n  <tbody>\n    <tr>\n      <th>0</th>\n      <td>d0fa7568-7d8e-4db9-870f-f9c6f668c17b</td>\n      <td>The Impact of Dual Enrollment on College Degre...</td>\n      <td>National Education Longitudinal Study</td>\n      <td>National Education Longitudinal Study</td>\n      <td>national education longitudinal study</td>\n    </tr>\n    <tr>\n      <th>1</th>\n      <td>2f26f645-3dec-485d-b68d-f013c9e05e60</td>\n      <td>Educational Attainment of High School Dropouts...</td>\n      <td>National Education Longitudinal Study</td>\n      <td>National Education Longitudinal Study</td>\n      <td>national education longitudinal study</td>\n    </tr>\n    <tr>\n      <th>2</th>\n      <td>c5d5cd2c-59de-4f29-bbb1-6a88c7b52f29</td>\n      <td>Differences in Outcomes for Female and Male St...</td>\n      <td>National Education Longitudinal Study</td>\n      <td>National Education Longitudinal Study</td>\n      <td>national education longitudinal study</td>\n    </tr>\n    <tr>\n      <th>3</th>\n      <td>5c9a3bc9-41ba-4574-ad71-e25c1442c8af</td>\n      <td>Stepping Stone and Option Value in a Model of ...</td>\n      <td>National Education Longitudinal Study</td>\n      <td>National Education Longitudinal Study</td>\n      <td>national education longitudinal study</td>\n    </tr>\n    <tr>\n      <th>4</th>\n      <td>c754dec7-c5a3-4337-9892-c02158475064</td>\n      <td>Parental Effort, School Resources, and Student...</td>\n      <td>National Education Longitudinal Study</td>\n      <td>National Education Longitudinal Study</td>\n      <td>national education longitudinal study</td>\n    </tr>\n  </tbody>\n</table>\n</div>"
     },
     "metadata": {},
     "execution_count": 10
    }
   ],
   "source": [
    "train_df.head(5)"
   ]
  },
  {
   "cell_type": "code",
   "execution_count": 11,
   "metadata": {},
   "outputs": [
    {
     "output_type": "stream",
     "name": "stdout",
     "text": [
      "<class 'pandas.core.frame.DataFrame'>\nRangeIndex: 19661 entries, 0 to 19660\nData columns (total 5 columns):\n #   Column         Non-Null Count  Dtype \n---  ------         --------------  ----- \n 0   Id             19661 non-null  object\n 1   pub_title      19661 non-null  object\n 2   dataset_title  19661 non-null  object\n 3   dataset_label  19661 non-null  object\n 4   cleaned_label  19661 non-null  object\ndtypes: object(5)\nmemory usage: 768.1+ KB\n"
     ]
    }
   ],
   "source": [
    "train_df.info()"
   ]
  },
  {
   "cell_type": "code",
   "execution_count": 12,
   "metadata": {},
   "outputs": [],
   "source": [
    "def read_append_return(filename, train_files_path=train_fp, output='text'):\n",
    "    \"\"\"\n",
    "    Function to read json file and then return the text data from them and append to the dataframe\n",
    "    \"\"\"\n",
    "    json_path = os.path.join(train_files_path, (filename+'.json'))\n",
    "    headings = []\n",
    "    contents = []\n",
    "    combined = []\n",
    "    with open(json_path, 'r') as f:\n",
    "        json_decode = json.load(f)\n",
    "        for data in json_decode:\n",
    "            headings.append(data.get('section_title'))\n",
    "            contents.append(data.get('text'))\n",
    "            combined.append(data.get('section_title'))\n",
    "            combined.append(data.get('text'))\n",
    "    \n",
    "    all_headings = ' '.join(headings)\n",
    "    all_contents = ' '.join(contents)\n",
    "    all_data = '. '.join(combined)\n",
    "    \n",
    "    if output == 'text':\n",
    "        return all_contents\n",
    "    elif output == 'head':\n",
    "        return all_headings\n",
    "    else:\n",
    "        return all_data"
   ]
  },
  {
   "cell_type": "code",
   "execution_count": 13,
   "metadata": {},
   "outputs": [
    {
     "output_type": "stream",
     "name": "stderr",
     "text": [
      "/home/ry/.local/lib/python3.8/site-packages/tqdm/std.py:703: FutureWarning: The Panel class is removed from pandas. Accessing it from the top-level namespace will also be removed in the next version\n",
      "  from pandas import Panel\n",
      "100%|██████████| 19661/19661 [00:05<00:00, 3767.87it/s]CPU times: user 4.27 s, sys: 896 ms, total: 5.16 s\n",
      "Wall time: 5.22 s\n",
      "\n"
     ]
    }
   ],
   "source": [
    "%%time\n",
    "tqdm.pandas()   #tqdm is used to show any code running with a progress bar. \n",
    "train_df['text'] = train_df['Id'].progress_apply(read_append_return)"
   ]
  },
  {
   "cell_type": "code",
   "execution_count": 14,
   "metadata": {},
   "outputs": [
    {
     "output_type": "execute_result",
     "data": {
      "text/plain": [
       "                                     Id  \\\n",
       "0  d0fa7568-7d8e-4db9-870f-f9c6f668c17b   \n",
       "1  2f26f645-3dec-485d-b68d-f013c9e05e60   \n",
       "2  c5d5cd2c-59de-4f29-bbb1-6a88c7b52f29   \n",
       "3  5c9a3bc9-41ba-4574-ad71-e25c1442c8af   \n",
       "4  c754dec7-c5a3-4337-9892-c02158475064   \n",
       "\n",
       "                                           pub_title  \\\n",
       "0  The Impact of Dual Enrollment on College Degre...   \n",
       "1  Educational Attainment of High School Dropouts...   \n",
       "2  Differences in Outcomes for Female and Male St...   \n",
       "3  Stepping Stone and Option Value in a Model of ...   \n",
       "4  Parental Effort, School Resources, and Student...   \n",
       "\n",
       "                           dataset_title  \\\n",
       "0  National Education Longitudinal Study   \n",
       "1  National Education Longitudinal Study   \n",
       "2  National Education Longitudinal Study   \n",
       "3  National Education Longitudinal Study   \n",
       "4  National Education Longitudinal Study   \n",
       "\n",
       "                           dataset_label  \\\n",
       "0  National Education Longitudinal Study   \n",
       "1  National Education Longitudinal Study   \n",
       "2  National Education Longitudinal Study   \n",
       "3  National Education Longitudinal Study   \n",
       "4  National Education Longitudinal Study   \n",
       "\n",
       "                           cleaned_label  \\\n",
       "0  national education longitudinal study   \n",
       "1  national education longitudinal study   \n",
       "2  national education longitudinal study   \n",
       "3  national education longitudinal study   \n",
       "4  national education longitudinal study   \n",
       "\n",
       "                                                text  \n",
       "0  This study used data from the National Educati...  \n",
       "1  Dropping out of high school is not necessarily...  \n",
       "2   , stress satisfactory outcomes for all youth,...  \n",
       "3  Federal Reserve Bank of Richmond S1. Accountin...  \n",
       "4  This article investigates an important factor ...  "
      ],
      "text/html": "<div>\n<style scoped>\n    .dataframe tbody tr th:only-of-type {\n        vertical-align: middle;\n    }\n\n    .dataframe tbody tr th {\n        vertical-align: top;\n    }\n\n    .dataframe thead th {\n        text-align: right;\n    }\n</style>\n<table border=\"1\" class=\"dataframe\">\n  <thead>\n    <tr style=\"text-align: right;\">\n      <th></th>\n      <th>Id</th>\n      <th>pub_title</th>\n      <th>dataset_title</th>\n      <th>dataset_label</th>\n      <th>cleaned_label</th>\n      <th>text</th>\n    </tr>\n  </thead>\n  <tbody>\n    <tr>\n      <th>0</th>\n      <td>d0fa7568-7d8e-4db9-870f-f9c6f668c17b</td>\n      <td>The Impact of Dual Enrollment on College Degre...</td>\n      <td>National Education Longitudinal Study</td>\n      <td>National Education Longitudinal Study</td>\n      <td>national education longitudinal study</td>\n      <td>This study used data from the National Educati...</td>\n    </tr>\n    <tr>\n      <th>1</th>\n      <td>2f26f645-3dec-485d-b68d-f013c9e05e60</td>\n      <td>Educational Attainment of High School Dropouts...</td>\n      <td>National Education Longitudinal Study</td>\n      <td>National Education Longitudinal Study</td>\n      <td>national education longitudinal study</td>\n      <td>Dropping out of high school is not necessarily...</td>\n    </tr>\n    <tr>\n      <th>2</th>\n      <td>c5d5cd2c-59de-4f29-bbb1-6a88c7b52f29</td>\n      <td>Differences in Outcomes for Female and Male St...</td>\n      <td>National Education Longitudinal Study</td>\n      <td>National Education Longitudinal Study</td>\n      <td>national education longitudinal study</td>\n      <td>, stress satisfactory outcomes for all youth,...</td>\n    </tr>\n    <tr>\n      <th>3</th>\n      <td>5c9a3bc9-41ba-4574-ad71-e25c1442c8af</td>\n      <td>Stepping Stone and Option Value in a Model of ...</td>\n      <td>National Education Longitudinal Study</td>\n      <td>National Education Longitudinal Study</td>\n      <td>national education longitudinal study</td>\n      <td>Federal Reserve Bank of Richmond S1. Accountin...</td>\n    </tr>\n    <tr>\n      <th>4</th>\n      <td>c754dec7-c5a3-4337-9892-c02158475064</td>\n      <td>Parental Effort, School Resources, and Student...</td>\n      <td>National Education Longitudinal Study</td>\n      <td>National Education Longitudinal Study</td>\n      <td>national education longitudinal study</td>\n      <td>This article investigates an important factor ...</td>\n    </tr>\n  </tbody>\n</table>\n</div>"
     },
     "metadata": {},
     "execution_count": 14
    }
   ],
   "source": [
    "train_df.head(5)"
   ]
  },
  {
   "cell_type": "code",
   "execution_count": 18,
   "metadata": {},
   "outputs": [],
   "source": [
    "def text_cleaning(text):\n",
    "    '''\n",
    "    Converts all text to lower case, Removes special charecters, emojis and multiple spaces\n",
    "    text - Sentence that needs to be cleaned\n",
    "    '''\n",
    "    text = ''.join([k for k in text if k not in string.punctuation])\n",
    "    text = re.sub('[^A-Za-z0-9]+', ' ', str(text).lower()).strip()\n",
    "#     text = re.sub(\"/'+/g\", ' ', text)\n",
    "    \n",
    "    return text"
   ]
  },
  {
   "cell_type": "code",
   "execution_count": 19,
   "metadata": {},
   "outputs": [
    {
     "output_type": "stream",
     "name": "stderr",
     "text": [
      "/home/ry/.local/lib/python3.8/site-packages/tqdm/std.py:703: FutureWarning: The Panel class is removed from pandas. Accessing it from the top-level namespace will also be removed in the next version\n",
      "  from pandas import Panel\n",
      "100%|██████████| 19661/19661 [02:20<00:00, 139.58it/s]CPU times: user 2min 20s, sys: 1.37 s, total: 2min 21s\n",
      "Wall time: 2min 20s\n",
      "\n"
     ]
    }
   ],
   "source": [
    "%%time\n",
    "tqdm.pandas()\n",
    "train_df['text'] = train_df['text'].progress_apply(text_cleaning)"
   ]
  },
  {
   "cell_type": "code",
   "execution_count": 20,
   "metadata": {},
   "outputs": [
    {
     "output_type": "execute_result",
     "data": {
      "text/plain": [
       "                                     Id  \\\n",
       "0  d0fa7568-7d8e-4db9-870f-f9c6f668c17b   \n",
       "1  2f26f645-3dec-485d-b68d-f013c9e05e60   \n",
       "2  c5d5cd2c-59de-4f29-bbb1-6a88c7b52f29   \n",
       "3  5c9a3bc9-41ba-4574-ad71-e25c1442c8af   \n",
       "4  c754dec7-c5a3-4337-9892-c02158475064   \n",
       "\n",
       "                                           pub_title  \\\n",
       "0  The Impact of Dual Enrollment on College Degre...   \n",
       "1  Educational Attainment of High School Dropouts...   \n",
       "2  Differences in Outcomes for Female and Male St...   \n",
       "3  Stepping Stone and Option Value in a Model of ...   \n",
       "4  Parental Effort, School Resources, and Student...   \n",
       "\n",
       "                           dataset_title  \\\n",
       "0  National Education Longitudinal Study   \n",
       "1  National Education Longitudinal Study   \n",
       "2  National Education Longitudinal Study   \n",
       "3  National Education Longitudinal Study   \n",
       "4  National Education Longitudinal Study   \n",
       "\n",
       "                           dataset_label  \\\n",
       "0  National Education Longitudinal Study   \n",
       "1  National Education Longitudinal Study   \n",
       "2  National Education Longitudinal Study   \n",
       "3  National Education Longitudinal Study   \n",
       "4  National Education Longitudinal Study   \n",
       "\n",
       "                           cleaned_label  \\\n",
       "0  national education longitudinal study   \n",
       "1  national education longitudinal study   \n",
       "2  national education longitudinal study   \n",
       "3  national education longitudinal study   \n",
       "4  national education longitudinal study   \n",
       "\n",
       "                                                text  \n",
       "0  this study used data from the national educati...  \n",
       "1  dropping out of high school is not necessarily...  \n",
       "2  stress satisfactory outcomes for all youth inc...  \n",
       "3  federal reserve bank of richmond s1 accounting...  \n",
       "4  this article investigates an important factor ...  "
      ],
      "text/html": "<div>\n<style scoped>\n    .dataframe tbody tr th:only-of-type {\n        vertical-align: middle;\n    }\n\n    .dataframe tbody tr th {\n        vertical-align: top;\n    }\n\n    .dataframe thead th {\n        text-align: right;\n    }\n</style>\n<table border=\"1\" class=\"dataframe\">\n  <thead>\n    <tr style=\"text-align: right;\">\n      <th></th>\n      <th>Id</th>\n      <th>pub_title</th>\n      <th>dataset_title</th>\n      <th>dataset_label</th>\n      <th>cleaned_label</th>\n      <th>text</th>\n    </tr>\n  </thead>\n  <tbody>\n    <tr>\n      <th>0</th>\n      <td>d0fa7568-7d8e-4db9-870f-f9c6f668c17b</td>\n      <td>The Impact of Dual Enrollment on College Degre...</td>\n      <td>National Education Longitudinal Study</td>\n      <td>National Education Longitudinal Study</td>\n      <td>national education longitudinal study</td>\n      <td>this study used data from the national educati...</td>\n    </tr>\n    <tr>\n      <th>1</th>\n      <td>2f26f645-3dec-485d-b68d-f013c9e05e60</td>\n      <td>Educational Attainment of High School Dropouts...</td>\n      <td>National Education Longitudinal Study</td>\n      <td>National Education Longitudinal Study</td>\n      <td>national education longitudinal study</td>\n      <td>dropping out of high school is not necessarily...</td>\n    </tr>\n    <tr>\n      <th>2</th>\n      <td>c5d5cd2c-59de-4f29-bbb1-6a88c7b52f29</td>\n      <td>Differences in Outcomes for Female and Male St...</td>\n      <td>National Education Longitudinal Study</td>\n      <td>National Education Longitudinal Study</td>\n      <td>national education longitudinal study</td>\n      <td>stress satisfactory outcomes for all youth inc...</td>\n    </tr>\n    <tr>\n      <th>3</th>\n      <td>5c9a3bc9-41ba-4574-ad71-e25c1442c8af</td>\n      <td>Stepping Stone and Option Value in a Model of ...</td>\n      <td>National Education Longitudinal Study</td>\n      <td>National Education Longitudinal Study</td>\n      <td>national education longitudinal study</td>\n      <td>federal reserve bank of richmond s1 accounting...</td>\n    </tr>\n    <tr>\n      <th>4</th>\n      <td>c754dec7-c5a3-4337-9892-c02158475064</td>\n      <td>Parental Effort, School Resources, and Student...</td>\n      <td>National Education Longitudinal Study</td>\n      <td>National Education Longitudinal Study</td>\n      <td>national education longitudinal study</td>\n      <td>this article investigates an important factor ...</td>\n    </tr>\n  </tbody>\n</table>\n</div>"
     },
     "metadata": {},
     "execution_count": 20
    }
   ],
   "source": [
    "train_df.head()"
   ]
  },
  {
   "cell_type": "code",
   "execution_count": null,
   "metadata": {},
   "outputs": [],
   "source": []
  }
 ]
}